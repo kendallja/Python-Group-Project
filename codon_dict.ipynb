{
 "cells": [
  {
   "cell_type": "code",
   "execution_count": 1,
   "metadata": {},
   "outputs": [
    {
     "ename": "KeyError",
     "evalue": "'TAA'",
     "output_type": "error",
     "traceback": [
      "\u001b[0;31m---------------------------------------------------------------------------\u001b[0m",
      "\u001b[0;31mKeyError\u001b[0m                                  Traceback (most recent call last)",
      "\u001b[0;32m<ipython-input-1-444152bd7d47>\u001b[0m in \u001b[0;36m<module>\u001b[0;34m()\u001b[0m\n\u001b[1;32m     22\u001b[0m     \u001b[0;34m'STOP'\u001b[0m\u001b[0;34m:\u001b[0m\u001b[0;34m[\u001b[0m\u001b[0;34m'TAA'\u001b[0m\u001b[0;34m,\u001b[0m \u001b[0;34m'TAG'\u001b[0m\u001b[0;34m,\u001b[0m \u001b[0;34m'TGA'\u001b[0m\u001b[0;34m]\u001b[0m\u001b[0;34m\u001b[0m\u001b[0m\n\u001b[1;32m     23\u001b[0m            }\n\u001b[0;32m---> 24\u001b[0;31m \u001b[0mprint\u001b[0m\u001b[0;34m(\u001b[0m\u001b[0mcodons\u001b[0m\u001b[0;34m[\u001b[0m\u001b[0;34m'TAA'\u001b[0m\u001b[0;34m]\u001b[0m\u001b[0;34m)\u001b[0m\u001b[0;34m\u001b[0m\u001b[0m\n\u001b[0m",
      "\u001b[0;31mKeyError\u001b[0m: 'TAA'"
     ]
    }
   ],
   "source": [
    "codons = { \n",
    "    'Ala':['GCT', 'GCC', 'GCA', 'GCG'],\n",
    "    'Cys':['TGT', 'TGC'],\n",
    "    'Asp':['GAT', 'GAC'],\n",
    "    'Glu':['GAA', 'GAG'],\n",
    "    'Phe':['TTT', 'TTC'],\n",
    "    'Gly':['GGT', 'GGC', 'GGA', 'GGG'],\n",
    "    'His':['CAT', 'CAC'],\n",
    "    'Ile':['ATT', 'ATC', 'ATA'],\n",
    "    'Lys':['AAA', 'AAG'],\n",
    "    'Leu':['CTT', 'CTC', 'CTA', 'CTG', 'TTA', 'TTG'],\n",
    "    'Met':['ATG'],\n",
    "    'Asn':['AAT', 'AAC'],\n",
    "    'Pro':['CCT', 'CCC', 'CCA', 'CCG'],\n",
    "    'Gln':['CAA', 'CAG'],\n",
    "    'Arg':['CGT', 'CGC', 'CGA', 'CGG', 'AGA', 'AGG'],\n",
    "    'Ser':['TCT', 'TCC', 'TCA', 'TCG', 'AGT', 'AGC'],\n",
    "    'Thr':['ACT', 'ACC', 'ACA', 'ACG'],\n",
    "    'Val':['GTT', 'GTC', 'GTA', 'GTG'],\n",
    "    'Trp':['TGG'],\n",
    "    'Tyr':['TAT', 'TAC'],\n",
    "    'STOP':['TAA', 'TAG', 'TGA']\n",
    "           }\n",
    "print(codons['STOP'])"
   ]
  },
  {
   "cell_type": "code",
   "execution_count": 2,
   "metadata": {},
   "outputs": [
    {
     "name": "stdout",
     "output_type": "stream",
     "text": [
      "STOP\n"
     ]
    }
   ],
   "source": [
    "codons = { \n",
    "    'GCT' : 'Ala',\n",
    "    'GCC' : 'Ala',\n",
    "    'GCA' : 'Ala',\n",
    "    'GCG' : 'Ala',\n",
    "    'TGT' : 'Cys',\n",
    "    'TGC' : 'Cys',\n",
    "    'GAT' : 'Asp',\n",
    "    'GAC' : 'Asp',\n",
    "    'GAA' : 'Glu',\n",
    "    'GAG' : 'Glu',\n",
    "    'TTT' : 'Phe',\n",
    "    'TTC' : 'Phe',\n",
    "    'GGT' : 'Gly',\n",
    "    'GGC' : 'Gly',\n",
    "    'GGA' : 'Gly',\n",
    "    'GGG' : 'Gly',\n",
    "    'CAT' : 'His',\n",
    "    'CAC' : 'His',\n",
    "    'ATT' : 'Ile',\n",
    "    'ATC' : 'Ile',\n",
    "    'ATA' : 'Ile',\n",
    "    'AAA' : 'Lys',\n",
    "    'AAG' : 'Lys',\n",
    "    'CTT' : 'Leu',\n",
    "    'CTC' : 'Leu',\n",
    "    'CTA' : 'Leu',\n",
    "    'CTG' : 'Leu',\n",
    "    'TTA' : 'Leu',\n",
    "    'TTG' : 'Leu',\n",
    "    'ATG' : 'Met',\n",
    "    'AAT' : 'Asn',\n",
    "    'AAC' : 'Asn',\n",
    "    'CCT' : 'Pro',\n",
    "    'CCC' : 'Pro',\n",
    "    'CCA' : 'Pro',\n",
    "    'CCG' : 'Pro',\n",
    "    'CAA' : 'Gln',\n",
    "    'CAG' : 'Gln',\n",
    "    'CGT' : 'Arg',\n",
    "    'CGC' : 'Arg',\n",
    "    'CGA' : 'Arg',\n",
    "    'CGG' : 'Arg',\n",
    "    'AGA' : 'Arg',\n",
    "    'AGG' : 'Arg',\n",
    "    'TCT' : 'Ser',\n",
    "    'TCC' : 'Ser',\n",
    "    'TCA' : 'Ser',\n",
    "    'TCG' : 'Ser',\n",
    "    'AGT' : 'Ser',\n",
    "    'AGC' : 'Ser',\n",
    "    'ACT' : 'Thr',\n",
    "    'ACC' : 'Thr',\n",
    "    'ACA' : 'Thr',\n",
    "    'ACG' : 'Thr',\n",
    "    'GTT' : 'Val',\n",
    "    'GTC' : 'Val',\n",
    "    'GTA' : 'Val',\n",
    "    'GTG' : 'Val',\n",
    "    'TGG' : 'Trp',\n",
    "    'TAT' : 'Tyr',\n",
    "    'TAC' : 'Tyr',\n",
    "    'TAA' : 'STOP',\n",
    "    'TAG' : 'STOP',\n",
    "    'TGA' : 'STOP'\n",
    "           }\n",
    "print(codons['TGA'])"
   ]
  }
 ],
 "metadata": {
  "kernelspec": {
   "display_name": "Python 3",
   "language": "python",
   "name": "python3"
  },
  "language_info": {
   "codemirror_mode": {
    "name": "ipython",
    "version": 3
   },
   "file_extension": ".py",
   "mimetype": "text/x-python",
   "name": "python",
   "nbconvert_exporter": "python",
   "pygments_lexer": "ipython3",
   "version": "3.6.6"
  }
 },
 "nbformat": 4,
 "nbformat_minor": 2
}
