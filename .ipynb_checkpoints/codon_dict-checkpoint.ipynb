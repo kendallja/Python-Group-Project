{
 "cells": [
  {
   "cell_type": "code",
   "execution_count": 12,
   "metadata": {},
   "outputs": [
    {
     "name": "stdout",
     "output_type": "stream",
     "text": [
      "['GCT', 'GCC', 'GCA', 'GCG']\n"
     ]
    }
   ],
   "source": [
    "codons = { \n",
    "    'Ala':['GCT', 'GCC', 'GCA', 'GCG'],\n",
    "    'Cys':['TGT', 'TGC'],\n",
    "    'Asp':['GAT', 'GAC'],\n",
    "    'Glu':['GAA', 'GAG'],\n",
    "    'Phe':['TTT', 'TTC'],\n",
    "    'Gly':['GGT', 'GGC', 'GGA', 'GGG'],\n",
    "    'His':['CAT', 'CAC'],\n",
    "    'Ile':['ATT', 'ATC', 'ATA'],\n",
    "    'Lys':['AAA', 'AAG'],\n",
    "    'Leu':['CTT', 'CTC', 'CTA', 'CTG', 'TTA', 'TTG'],\n",
    "    'Met':['ATG'],\n",
    "    'Asn':['AAT', 'AAC'],\n",
    "    'Pro':['CCT', 'CCC', 'CCA', 'CCG'],\n",
    "    'Gln':['CAA', 'CAG'],\n",
    "    'Arg':['CGT', 'CGC', 'CGA', 'CGG', 'AGA', 'AGG'],\n",
    "    'Ser':['TCT', 'TCC', 'TCA', 'TCG', 'AGT', 'AGC'],\n",
    "    'Thr':['ACT', 'ACC', 'ACA', 'ACG'],\n",
    "    'Val':['GTT', 'GTC', 'GTA', 'GTG'],\n",
    "    'Trp':['TGG'],\n",
    "    'Tyr':['TAT', 'TAC'],\n",
    "    'STOP':['TAA', 'TAG', 'TGA']\n",
    "           }\n",
    "print(codons['Ala'])"
   ]
  },
  {
   "cell_type": "code",
   "execution_count": null,
   "metadata": {},
   "outputs": [],
   "source": []
  }
 ],
 "metadata": {
  "kernelspec": {
   "display_name": "Python 3",
   "language": "python",
   "name": "python3"
  },
  "language_info": {
   "codemirror_mode": {
    "name": "ipython",
    "version": 3
   },
   "file_extension": ".py",
   "mimetype": "text/x-python",
   "name": "python",
   "nbconvert_exporter": "python",
   "pygments_lexer": "ipython3",
   "version": "3.6.6"
  }
 },
 "nbformat": 4,
 "nbformat_minor": 2
}
