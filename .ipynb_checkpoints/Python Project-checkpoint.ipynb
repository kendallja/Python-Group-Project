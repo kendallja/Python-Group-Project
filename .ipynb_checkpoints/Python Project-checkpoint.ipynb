{
 "cells": [
  {
   "cell_type": "code",
   "execution_count": null,
   "metadata": {},
   "outputs": [],
   "source": [
    "# Codon Dictionary\n",
    "\n",
    "inv_codons = {v: k for k, v in codons.items()}\n",
    "\n",
    "stop_codon = [\"UAA\", \"UAG\", \"UGA\"]\n",
    "\n",
    "# Ask user for codon\n",
    "codon = input(\"Enter a codon:  \")\n",
    "if codon in inv_codons.keys():\n",
    "    if codon == codons[Met]:\n",
    "else:\n",
    "    print(\"That is not a valid codon\")\n",
    "\n",
    "    \n",
    "#     else:\n",
    "#         print(\"That is not a valid codon\")\n",
    "        \n",
    "        \n",
    "#     if codon != str(\"AUG\"):\n",
    "#         print(\"You must enter the start codon\")\n",
    "#     else:\n",
    "#         while sequence not in stop_codon:\n",
    "#             codon = input(\"Enter a codon:  \")\n",
    "# else:\n",
    "#     print(\"That is not a valid codon\")\n"
   ]
  }
 ],
 "metadata": {
  "kernelspec": {
   "display_name": "Python 3",
   "language": "python",
   "name": "python3"
  },
  "language_info": {
   "codemirror_mode": {
    "name": "ipython",
    "version": 3
   },
   "file_extension": ".py",
   "mimetype": "text/x-python",
   "name": "python",
   "nbconvert_exporter": "python",
   "pygments_lexer": "ipython3",
   "version": "3.6.6"
  }
 },
 "nbformat": 4,
 "nbformat_minor": 2
}
