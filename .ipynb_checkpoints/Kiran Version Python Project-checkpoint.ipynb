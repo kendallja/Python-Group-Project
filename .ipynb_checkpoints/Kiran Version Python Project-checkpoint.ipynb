{
 "cells": [
  {
   "cell_type": "code",
   "execution_count": 2,
   "metadata": {},
   "outputs": [
    {
     "name": "stdout",
     "output_type": "stream",
     "text": [
      "Enter a DNA sequence: ATG\n"
     ]
    },
    {
     "ename": "TypeError",
     "evalue": "not all arguments converted during string formatting",
     "output_type": "error",
     "traceback": [
      "\u001b[0;31m---------------------------------------------------------------------------\u001b[0m",
      "\u001b[0;31mTypeError\u001b[0m                                 Traceback (most recent call last)",
      "\u001b[0;32m<ipython-input-2-3b7acc79c4c0>\u001b[0m in \u001b[0;36m<module>\u001b[0;34m()\u001b[0m\n\u001b[1;32m     68\u001b[0m         \u001b[0mcodon\u001b[0m \u001b[0;34m=\u001b[0m \u001b[0minput\u001b[0m\u001b[0;34m(\u001b[0m\u001b[0;34m\"Enter a DNA sequence: \"\u001b[0m\u001b[0;34m)\u001b[0m\u001b[0;34m\u001b[0m\u001b[0m\n\u001b[1;32m     69\u001b[0m     \u001b[0mprint\u001b[0m\u001b[0;34m(\u001b[0m\u001b[0mfull_codon_list\u001b[0m\u001b[0;34m)\u001b[0m\u001b[0;34m\u001b[0m\u001b[0m\n\u001b[0;32m---> 70\u001b[0;31m \u001b[0mmain\u001b[0m\u001b[0;34m(\u001b[0m\u001b[0;34m)\u001b[0m\u001b[0;34m\u001b[0m\u001b[0m\n\u001b[0m",
      "\u001b[0;32m<ipython-input-2-3b7acc79c4c0>\u001b[0m in \u001b[0;36mmain\u001b[0;34m()\u001b[0m\n\u001b[1;32m     65\u001b[0m     \u001b[0mcodon\u001b[0m \u001b[0;34m=\u001b[0m \u001b[0minput\u001b[0m\u001b[0;34m(\u001b[0m\u001b[0;34m\"Enter a DNA sequence: \"\u001b[0m\u001b[0;34m)\u001b[0m\u001b[0;34m\u001b[0m\u001b[0m\n\u001b[1;32m     66\u001b[0m     \u001b[0;32mwhile\u001b[0m \u001b[0mcodon\u001b[0m \u001b[0;34m!=\u001b[0m \u001b[0;34m\"\"\u001b[0m\u001b[0;34m:\u001b[0m\u001b[0;34m\u001b[0m\u001b[0m\n\u001b[0;32m---> 67\u001b[0;31m         \u001b[0mvalidity_check\u001b[0m\u001b[0;34m(\u001b[0m\u001b[0mcodon\u001b[0m\u001b[0;34m)\u001b[0m\u001b[0;34m\u001b[0m\u001b[0m\n\u001b[0m\u001b[1;32m     68\u001b[0m         \u001b[0mcodon\u001b[0m \u001b[0;34m=\u001b[0m \u001b[0minput\u001b[0m\u001b[0;34m(\u001b[0m\u001b[0;34m\"Enter a DNA sequence: \"\u001b[0m\u001b[0;34m)\u001b[0m\u001b[0;34m\u001b[0m\u001b[0m\n\u001b[1;32m     69\u001b[0m     \u001b[0mprint\u001b[0m\u001b[0;34m(\u001b[0m\u001b[0mfull_codon_list\u001b[0m\u001b[0;34m)\u001b[0m\u001b[0;34m\u001b[0m\u001b[0m\n",
      "\u001b[0;32m<ipython-input-2-3b7acc79c4c0>\u001b[0m in \u001b[0;36mvalidity_check\u001b[0;34m(codon)\u001b[0m\n\u001b[1;32m     37\u001b[0m     \u001b[0mcodon\u001b[0m \u001b[0;34m=\u001b[0m \u001b[0mcodon\u001b[0m\u001b[0;34m.\u001b[0m\u001b[0mupper\u001b[0m\u001b[0;34m(\u001b[0m\u001b[0;34m)\u001b[0m\u001b[0;34m\u001b[0m\u001b[0m\n\u001b[1;32m     38\u001b[0m     \u001b[0;32mif\u001b[0m \u001b[0mset\u001b[0m\u001b[0;34m(\u001b[0m\u001b[0mcodon\u001b[0m\u001b[0;34m)\u001b[0m\u001b[0;34m.\u001b[0m\u001b[0missubset\u001b[0m\u001b[0;34m(\u001b[0m\u001b[0mDNA\u001b[0m\u001b[0;34m)\u001b[0m\u001b[0;34m:\u001b[0m\u001b[0;34m\u001b[0m\u001b[0m\n\u001b[0;32m---> 39\u001b[0;31m         \u001b[0;32mreturn\u001b[0m \u001b[0mthree_base_pairs\u001b[0m\u001b[0;34m(\u001b[0m\u001b[0mcodon\u001b[0m\u001b[0;34m)\u001b[0m\u001b[0;34m\u001b[0m\u001b[0m\n\u001b[0m\u001b[1;32m     40\u001b[0m     \u001b[0;32melse\u001b[0m\u001b[0;34m:\u001b[0m\u001b[0;34m\u001b[0m\u001b[0m\n\u001b[1;32m     41\u001b[0m         \u001b[0mprint\u001b[0m\u001b[0;34m(\u001b[0m\u001b[0;34m\"This is an invalid DNA codon\"\u001b[0m\u001b[0;34m)\u001b[0m\u001b[0;34m\u001b[0m\u001b[0m\n",
      "\u001b[0;32m<ipython-input-2-3b7acc79c4c0>\u001b[0m in \u001b[0;36mthree_base_pairs\u001b[0;34m(codon)\u001b[0m\n\u001b[1;32m     42\u001b[0m \u001b[0;34m\u001b[0m\u001b[0m\n\u001b[1;32m     43\u001b[0m \u001b[0;32mdef\u001b[0m \u001b[0mthree_base_pairs\u001b[0m\u001b[0;34m(\u001b[0m\u001b[0mcodon\u001b[0m\u001b[0;34m)\u001b[0m\u001b[0;34m:\u001b[0m\u001b[0;34m\u001b[0m\u001b[0m\n\u001b[0;32m---> 44\u001b[0;31m     \u001b[0;32mif\u001b[0m \u001b[0mcodon\u001b[0m\u001b[0;34m%\u001b[0m\u001b[0;36m3\u001b[0m \u001b[0;34m==\u001b[0m \u001b[0;36m0\u001b[0m\u001b[0;34m:\u001b[0m\u001b[0;34m\u001b[0m\u001b[0m\n\u001b[0m\u001b[1;32m     45\u001b[0m         \u001b[0;32mreturn\u001b[0m \u001b[0mreverse_complement\u001b[0m\u001b[0;34m(\u001b[0m\u001b[0mcodon\u001b[0m\u001b[0;34m)\u001b[0m\u001b[0;34m\u001b[0m\u001b[0m\n\u001b[1;32m     46\u001b[0m     \u001b[0;32melse\u001b[0m\u001b[0;34m:\u001b[0m\u001b[0;34m\u001b[0m\u001b[0m\n",
      "\u001b[0;31mTypeError\u001b[0m: not all arguments converted during string formatting"
     ]
    }
   ],
   "source": [
    "# Nucleotide List\n",
    "DNA = [\"A\", \"C\", \"G\", \"T\"]\n",
    "\n",
    "# Reverse Complement Dictionary\n",
    "comp = {'A': 'U', 'T':'A', 'C':'G', 'G':'C'}\n",
    "\n",
    "# Codon Dictionary\n",
    "codons = { \n",
    "    'Ala':['GCT', 'GCC', 'GCA', 'GCG'],\n",
    "    'Cys':['TGT', 'TGC'],\n",
    "    'Asp':['GAT', 'GAC'],\n",
    "    'Glu':['GAA', 'GAG'],\n",
    "    'Phe':['TTT', 'TTC'],\n",
    "    'Gly':['GGT', 'GGC', 'GGA', 'GGG'],\n",
    "    'His':['CAT', 'CAC'],\n",
    "    'Ile':['ATT', 'ATC', 'ATA'],\n",
    "    'Lys':['AAA', 'AAG'],\n",
    "    'Leu':['CTT', 'CTC', 'CTA', 'CTG', 'TTA', 'TTG'],\n",
    "    'Met':['ATG'],\n",
    "    'Asn':['AAT', 'AAC'],\n",
    "    'Pro':['CCT', 'CCC', 'CCA', 'CCG'],\n",
    "    'Gln':['CAA', 'CAG'],\n",
    "    'Arg':['CGT', 'CGC', 'CGA', 'CGG', 'AGA', 'AGG'],\n",
    "    'Ser':['TCT', 'TCC', 'TCA', 'TCG', 'AGT', 'AGC'],\n",
    "    'Thr':['ACT', 'ACC', 'ACA', 'ACG'],\n",
    "    'Val':['GTT', 'GTC', 'GTA', 'GTG'],\n",
    "    'Trp':['TGG'],\n",
    "    'Tyr':['TAT', 'TAC'],\n",
    "    'STOP':['TAA', 'TAG', 'TGA']\n",
    "           }\n",
    "\n",
    "# Inverse Codon Dictionary\n",
    "# inv_codons = {v: k for k, v in codons.items()}\n",
    "\n",
    "\n",
    "def validity_check(codon):\n",
    "    codon = codon.upper()\n",
    "    if set(codon).issubset(DNA):\n",
    "        return three_base_pairs(codon)\n",
    "    else:\n",
    "        print(\"This is an invalid DNA codon\")\n",
    "\n",
    "def three_base_pairs(codon):\n",
    "    if codon%3 == 0:\n",
    "        return reverse_complement(codon)\n",
    "    else:\n",
    "        print(\"This is an invalid DNA codon\")\n",
    "        \n",
    "def DNA_list(codon):\n",
    "    DNA_codon_list = []\n",
    "    DNA_codon_list.append(codon)\n",
    "    return reverse_complement(DNA_codon_list)\n",
    "\n",
    "def reverse_complement(DNA_codon_list):\n",
    "    DNA_codon_list = DNA_codon_list.upper()\n",
    "    seqrev = DNA_codon_list[::-1]\n",
    "    codon_list = []\n",
    "    full_codon_list = []\n",
    "    for key in seqrev:\n",
    "        codon_list.append(comp[key])\n",
    "    codon_list = ''.join(codon_list)\n",
    "    full_codon_list.append(codon_list)\n",
    "\n",
    "def main():\n",
    "    codon = input(\"Enter a DNA sequence: \")\n",
    "    while codon != \"\":\n",
    "        validity_check(codon)\n",
    "        codon = input(\"Enter a DNA sequence: \")\n",
    "    print(full_codon_list)\n",
    "main()\n",
    "\n"
   ]
  },
  {
   "cell_type": "code",
   "execution_count": null,
   "metadata": {},
   "outputs": [],
   "source": []
  }
 ],
 "metadata": {
  "kernelspec": {
   "display_name": "Python 3",
   "language": "python",
   "name": "python3"
  },
  "language_info": {
   "codemirror_mode": {
    "name": "ipython",
    "version": 3
   },
   "file_extension": ".py",
   "mimetype": "text/x-python",
   "name": "python",
   "nbconvert_exporter": "python",
   "pygments_lexer": "ipython3",
   "version": "3.6.6"
  }
 },
 "nbformat": 4,
 "nbformat_minor": 2
}
