{
 "cells": [
  {
   "cell_type": "code",
   "execution_count": 6,
   "metadata": {
    "scrolled": true
   },
   "outputs": [
    {
     "name": "stdout",
     "output_type": "stream",
     "text": [
      "Enter start codon: ATG\n",
      "Good Job! That's the correct start codon\n",
      "Enter a DNA triplet or stop codon: GCC\n",
      "['Ala']\n",
      "Enter a DNA triplet or stop codon: GCC\n",
      "['Ala', 'Ala']\n",
      "Enter a DNA triplet or stop codon: TAG\n",
      "['Ala', 'Ala']\n"
     ]
    }
   ],
   "source": [
    "# Nucleotide List\n",
    "DNA = [\"A\", \"C\", \"G\", \"T\"]\n",
    "\n",
    "# Stop codon list\n",
    "stop = ('TAA', 'TAG', 'TGA')\n",
    "\n",
    "# Codon Dictionary\n",
    "\n",
    "DNA_codon_list = []\n",
    "\n",
    "def validity_check(codon):\n",
    "    codon = codon.upper()\n",
    "    if codon is (''):\n",
    "        print('Try again.')\n",
    "    else:\n",
    "        for key in codon:\n",
    "            if key in DNA:\n",
    "                return three_base_pairs(codon)\n",
    "            else:\n",
    "                print(\"This is an invalid DNA codon. Must contain only 'A', 'G', 'T', or 'C'.\")\n",
    "\n",
    "\n",
    "def three_base_pairs(codon):\n",
    "    if len(codon)/3 == 1:\n",
    "        return DNA_list(codon)\n",
    "    else:\n",
    "        print(\"This is an invalid DNA codon. Must be three bases in length.\")\n",
    "        \n",
    "def DNA_list(codon):\n",
    "    global DNA_codon_list\n",
    "    DNA_codon_list.append(codons[codon])\n",
    "    print(DNA_codon_list)\n",
    "        \n",
    "def main():\n",
    "    codon = input(\"Enter start codon: \")\n",
    "    if codon == 'ATG':\n",
    "        print(\"Good Job! That's the correct start codon\")\n",
    "    else:\n",
    "        print(\"Sorry, that's not correct. ATG is the start codon for DNA, you may continue anyways.\")\n",
    "    codon = input(\"Enter a DNA triplet or stop codon: \")\n",
    "    while codon not in stop:\n",
    "        validity_check(codon)\n",
    "        codon = input(\"Enter a DNA triplet or stop codon: \")\n",
    "\n",
    "main()"
   ]
  },
  {
   "cell_type": "code",
   "execution_count": 2,
   "metadata": {},
   "outputs": [],
   "source": [
    "import graphics\n",
    "win = graphics.GraphWin(\"Primary Structure of Protein\", 1000, 500)"
   ]
  },
  {
   "cell_type": "code",
   "execution_count": null,
   "metadata": {},
   "outputs": [],
   "source": []
  }
 ],
 "metadata": {
  "kernelspec": {
   "display_name": "Python 3",
   "language": "python",
   "name": "python3"
  },
  "language_info": {
   "codemirror_mode": {
    "name": "ipython",
    "version": 3
   },
   "file_extension": ".py",
   "mimetype": "text/x-python",
   "name": "python",
   "nbconvert_exporter": "python",
   "pygments_lexer": "ipython3",
   "version": "3.6.6"
  }
 },
 "nbformat": 4,
 "nbformat_minor": 2
}
