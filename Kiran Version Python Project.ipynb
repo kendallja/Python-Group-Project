{
 "cells": [
  {
   "cell_type": "code",
   "execution_count": null,
   "metadata": {},
   "outputs": [],
   "source": [
    "# Codon Dictionary\n",
    "codons = { \n",
    "    'Ala':['GCT', 'GCC', 'GCA', 'GCG'],\n",
    "    'Cys':['TGT', 'TGC'],\n",
    "    'Asp':['GAT', 'GAC'],\n",
    "    'Glu':['GAA', 'GAG'],\n",
    "    'Phe':['TTT', 'TTC'],\n",
    "    'Gly':['GGT', 'GGC', 'GGA', 'GGG'],\n",
    "    'His':['CAT', 'CAC'],\n",
    "    'Ile':['ATT', 'ATC', 'ATA'],\n",
    "    'Lys':['AAA', 'AAG'],\n",
    "    'Leu':['CTT', 'CTC', 'CTA', 'CTG', 'TTA', 'TTG'],\n",
    "    'Met':['ATG'],\n",
    "    'Asn':['AAT', 'AAC'],\n",
    "    'Pro':['CCT', 'CCC', 'CCA', 'CCG'],\n",
    "    'Gln':['CAA', 'CAG'],\n",
    "    'Arg':['CGT', 'CGC', 'CGA', 'CGG', 'AGA', 'AGG'],\n",
    "    'Ser':['TCT', 'TCC', 'TCA', 'TCG', 'AGT', 'AGC'],\n",
    "    'Thr':['ACT', 'ACC', 'ACA', 'ACG'],\n",
    "    'Val':['GTT', 'GTC', 'GTA', 'GTG'],\n",
    "    'Trp':['TGG'],\n",
    "    'Tyr':['TAT', 'TAC'],\n",
    "    'STOP':['TAA', 'TAG', 'TGA']\n",
    "           }\n",
    "\n",
    "# Inverse Codon Dictionary\n",
    "inv_codons = {v: k for k, v in codons.items()}\n",
    "\n",
    "# Ask user for codon\n",
    "codon = input(\"Enter a codon:  \")\n",
    "if codon in inv_codons.keys():\n",
    "    if codon == codons[Met]:\n",
    "else:\n",
    "    print(\"That is not a valid codon\")\n",
    "\n",
    "    \n",
    "#     else:\n",
    "#         print(\"That is not a valid codon\")\n",
    "        \n",
    "        \n",
    "#     if codon != str(\"AUG\"):\n",
    "#         print(\"You must enter the start codon\")\n",
    "#     else:\n",
    "#         while sequence not in stop_codon:\n",
    "#             codon = input(\"Enter a codon:  \")\n",
    "# else:\n",
    "#     print(\"That is not a valid codon\")\n"
   ]
  }
 ],
 "metadata": {
  "kernelspec": {
   "display_name": "Python 3",
   "language": "python",
   "name": "python3"
  },
  "language_info": {
   "codemirror_mode": {
    "name": "ipython",
    "version": 3
   },
   "file_extension": ".py",
   "mimetype": "text/x-python",
   "name": "python",
   "nbconvert_exporter": "python",
   "pygments_lexer": "ipython3",
   "version": "3.6.6"
  }
 },
 "nbformat": 4,
 "nbformat_minor": 2
}
